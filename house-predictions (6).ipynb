{
 "cells": [
  {
   "cell_type": "code",
   "execution_count": 1,
   "metadata": {
    "execution": {
     "iopub.execute_input": "2023-09-23T21:29:25.779529Z",
     "iopub.status.busy": "2023-09-23T21:29:25.777924Z",
     "iopub.status.idle": "2023-09-23T21:29:25.786412Z",
     "shell.execute_reply": "2023-09-23T21:29:25.784883Z",
     "shell.execute_reply.started": "2023-09-23T21:29:25.779451Z"
    }
   },
   "outputs": [],
   "source": [
    "import numpy as np\n",
    "import pandas as pd"
   ]
  },
  {
   "cell_type": "code",
   "execution_count": 2,
   "metadata": {
    "execution": {
     "iopub.execute_input": "2023-09-23T21:29:25.789152Z",
     "iopub.status.busy": "2023-09-23T21:29:25.788566Z",
     "iopub.status.idle": "2023-09-23T21:29:25.876018Z",
     "shell.execute_reply": "2023-09-23T21:29:25.875051Z",
     "shell.execute_reply.started": "2023-09-23T21:29:25.789100Z"
    }
   },
   "outputs": [],
   "source": [
    "df_train=pd.read_csv(\"training1.csv\")\n",
    "df_test=pd.read_csv(\"test.csv\")"
   ]
  },
  {
   "cell_type": "code",
   "execution_count": 3,
   "metadata": {
    "execution": {
     "iopub.execute_input": "2023-09-23T21:29:25.879338Z",
     "iopub.status.busy": "2023-09-23T21:29:25.878529Z",
     "iopub.status.idle": "2023-09-23T21:29:25.906655Z",
     "shell.execute_reply": "2023-09-23T21:29:25.905387Z",
     "shell.execute_reply.started": "2023-09-23T21:29:25.879292Z"
    }
   },
   "outputs": [
    {
     "data": {
      "text/html": [
       "<div>\n",
       "<style scoped>\n",
       "    .dataframe tbody tr th:only-of-type {\n",
       "        vertical-align: middle;\n",
       "    }\n",
       "\n",
       "    .dataframe tbody tr th {\n",
       "        vertical-align: top;\n",
       "    }\n",
       "\n",
       "    .dataframe thead th {\n",
       "        text-align: right;\n",
       "    }\n",
       "</style>\n",
       "<table border=\"1\" class=\"dataframe\">\n",
       "  <thead>\n",
       "    <tr style=\"text-align: right;\">\n",
       "      <th></th>\n",
       "      <th>Id</th>\n",
       "      <th>MSSubClass</th>\n",
       "      <th>MSZoning</th>\n",
       "      <th>LotFrontage</th>\n",
       "      <th>LotArea</th>\n",
       "      <th>Street</th>\n",
       "      <th>Alley</th>\n",
       "      <th>LotShape</th>\n",
       "      <th>LandContour</th>\n",
       "      <th>Utilities</th>\n",
       "      <th>...</th>\n",
       "      <th>PoolArea</th>\n",
       "      <th>PoolQC</th>\n",
       "      <th>Fence</th>\n",
       "      <th>MiscFeature</th>\n",
       "      <th>MiscVal</th>\n",
       "      <th>MoSold</th>\n",
       "      <th>YrSold</th>\n",
       "      <th>SaleType</th>\n",
       "      <th>SaleCondition</th>\n",
       "      <th>SalePrice</th>\n",
       "    </tr>\n",
       "  </thead>\n",
       "  <tbody>\n",
       "    <tr>\n",
       "      <th>0</th>\n",
       "      <td>1</td>\n",
       "      <td>60</td>\n",
       "      <td>RL</td>\n",
       "      <td>65.0</td>\n",
       "      <td>8450</td>\n",
       "      <td>Pave</td>\n",
       "      <td>NaN</td>\n",
       "      <td>Reg</td>\n",
       "      <td>Lvl</td>\n",
       "      <td>AllPub</td>\n",
       "      <td>...</td>\n",
       "      <td>0</td>\n",
       "      <td>NaN</td>\n",
       "      <td>NaN</td>\n",
       "      <td>NaN</td>\n",
       "      <td>0</td>\n",
       "      <td>2</td>\n",
       "      <td>2008</td>\n",
       "      <td>WD</td>\n",
       "      <td>Normal</td>\n",
       "      <td>208500</td>\n",
       "    </tr>\n",
       "    <tr>\n",
       "      <th>1</th>\n",
       "      <td>2</td>\n",
       "      <td>20</td>\n",
       "      <td>RL</td>\n",
       "      <td>80.0</td>\n",
       "      <td>9600</td>\n",
       "      <td>Pave</td>\n",
       "      <td>NaN</td>\n",
       "      <td>Reg</td>\n",
       "      <td>Lvl</td>\n",
       "      <td>AllPub</td>\n",
       "      <td>...</td>\n",
       "      <td>0</td>\n",
       "      <td>NaN</td>\n",
       "      <td>NaN</td>\n",
       "      <td>NaN</td>\n",
       "      <td>0</td>\n",
       "      <td>5</td>\n",
       "      <td>2007</td>\n",
       "      <td>WD</td>\n",
       "      <td>Normal</td>\n",
       "      <td>181500</td>\n",
       "    </tr>\n",
       "    <tr>\n",
       "      <th>2</th>\n",
       "      <td>3</td>\n",
       "      <td>60</td>\n",
       "      <td>RL</td>\n",
       "      <td>68.0</td>\n",
       "      <td>11250</td>\n",
       "      <td>Pave</td>\n",
       "      <td>NaN</td>\n",
       "      <td>IR1</td>\n",
       "      <td>Lvl</td>\n",
       "      <td>AllPub</td>\n",
       "      <td>...</td>\n",
       "      <td>0</td>\n",
       "      <td>NaN</td>\n",
       "      <td>NaN</td>\n",
       "      <td>NaN</td>\n",
       "      <td>0</td>\n",
       "      <td>9</td>\n",
       "      <td>2008</td>\n",
       "      <td>WD</td>\n",
       "      <td>Normal</td>\n",
       "      <td>223500</td>\n",
       "    </tr>\n",
       "    <tr>\n",
       "      <th>3</th>\n",
       "      <td>4</td>\n",
       "      <td>70</td>\n",
       "      <td>RL</td>\n",
       "      <td>60.0</td>\n",
       "      <td>9550</td>\n",
       "      <td>Pave</td>\n",
       "      <td>NaN</td>\n",
       "      <td>IR1</td>\n",
       "      <td>Lvl</td>\n",
       "      <td>AllPub</td>\n",
       "      <td>...</td>\n",
       "      <td>0</td>\n",
       "      <td>NaN</td>\n",
       "      <td>NaN</td>\n",
       "      <td>NaN</td>\n",
       "      <td>0</td>\n",
       "      <td>2</td>\n",
       "      <td>2006</td>\n",
       "      <td>WD</td>\n",
       "      <td>Abnorml</td>\n",
       "      <td>140000</td>\n",
       "    </tr>\n",
       "    <tr>\n",
       "      <th>4</th>\n",
       "      <td>5</td>\n",
       "      <td>60</td>\n",
       "      <td>RL</td>\n",
       "      <td>84.0</td>\n",
       "      <td>14260</td>\n",
       "      <td>Pave</td>\n",
       "      <td>NaN</td>\n",
       "      <td>IR1</td>\n",
       "      <td>Lvl</td>\n",
       "      <td>AllPub</td>\n",
       "      <td>...</td>\n",
       "      <td>0</td>\n",
       "      <td>NaN</td>\n",
       "      <td>NaN</td>\n",
       "      <td>NaN</td>\n",
       "      <td>0</td>\n",
       "      <td>12</td>\n",
       "      <td>2008</td>\n",
       "      <td>WD</td>\n",
       "      <td>Normal</td>\n",
       "      <td>250000</td>\n",
       "    </tr>\n",
       "  </tbody>\n",
       "</table>\n",
       "<p>5 rows × 81 columns</p>\n",
       "</div>"
      ],
      "text/plain": [
       "   Id  MSSubClass MSZoning  LotFrontage  LotArea Street Alley LotShape  \\\n",
       "0   1          60       RL         65.0     8450   Pave   NaN      Reg   \n",
       "1   2          20       RL         80.0     9600   Pave   NaN      Reg   \n",
       "2   3          60       RL         68.0    11250   Pave   NaN      IR1   \n",
       "3   4          70       RL         60.0     9550   Pave   NaN      IR1   \n",
       "4   5          60       RL         84.0    14260   Pave   NaN      IR1   \n",
       "\n",
       "  LandContour Utilities  ... PoolArea PoolQC Fence MiscFeature MiscVal MoSold  \\\n",
       "0         Lvl    AllPub  ...        0    NaN   NaN         NaN       0      2   \n",
       "1         Lvl    AllPub  ...        0    NaN   NaN         NaN       0      5   \n",
       "2         Lvl    AllPub  ...        0    NaN   NaN         NaN       0      9   \n",
       "3         Lvl    AllPub  ...        0    NaN   NaN         NaN       0      2   \n",
       "4         Lvl    AllPub  ...        0    NaN   NaN         NaN       0     12   \n",
       "\n",
       "  YrSold  SaleType  SaleCondition  SalePrice  \n",
       "0   2008        WD         Normal     208500  \n",
       "1   2007        WD         Normal     181500  \n",
       "2   2008        WD         Normal     223500  \n",
       "3   2006        WD        Abnorml     140000  \n",
       "4   2008        WD         Normal     250000  \n",
       "\n",
       "[5 rows x 81 columns]"
      ]
     },
     "execution_count": 3,
     "metadata": {},
     "output_type": "execute_result"
    }
   ],
   "source": [
    "df_train.head()"
   ]
  },
  {
   "cell_type": "code",
   "execution_count": 4,
   "metadata": {
    "execution": {
     "iopub.execute_input": "2023-09-23T21:29:25.909833Z",
     "iopub.status.busy": "2023-09-23T21:29:25.908351Z",
     "iopub.status.idle": "2023-09-23T21:29:25.932135Z",
     "shell.execute_reply": "2023-09-23T21:29:25.929566Z",
     "shell.execute_reply.started": "2023-09-23T21:29:25.909771Z"
    }
   },
   "outputs": [
    {
     "data": {
      "text/plain": [
       "Id                  0\n",
       "TotalBsmtSF         0\n",
       "Heating             0\n",
       "SaleCondition       0\n",
       "CentralAir          0\n",
       "                 ... \n",
       "FireplaceQu       690\n",
       "Fence            1179\n",
       "Alley            1369\n",
       "MiscFeature      1406\n",
       "PoolQC           1453\n",
       "Length: 81, dtype: int64"
      ]
     },
     "execution_count": 4,
     "metadata": {},
     "output_type": "execute_result"
    }
   ],
   "source": [
    "df_train.isnull().sum().sort_values(ascending=True)"
   ]
  },
  {
   "cell_type": "code",
   "execution_count": 5,
   "metadata": {
    "execution": {
     "iopub.execute_input": "2023-09-23T21:29:25.936623Z",
     "iopub.status.busy": "2023-09-23T21:29:25.936158Z",
     "iopub.status.idle": "2023-09-23T21:29:25.983917Z",
     "shell.execute_reply": "2023-09-23T21:29:25.981913Z",
     "shell.execute_reply.started": "2023-09-23T21:29:25.936575Z"
    }
   },
   "outputs": [
    {
     "data": {
      "text/html": [
       "<div>\n",
       "<style scoped>\n",
       "    .dataframe tbody tr th:only-of-type {\n",
       "        vertical-align: middle;\n",
       "    }\n",
       "\n",
       "    .dataframe tbody tr th {\n",
       "        vertical-align: top;\n",
       "    }\n",
       "\n",
       "    .dataframe thead th {\n",
       "        text-align: right;\n",
       "    }\n",
       "</style>\n",
       "<table border=\"1\" class=\"dataframe\">\n",
       "  <thead>\n",
       "    <tr style=\"text-align: right;\">\n",
       "      <th></th>\n",
       "      <th>Id</th>\n",
       "      <th>MSSubClass</th>\n",
       "      <th>MSZoning</th>\n",
       "      <th>LotFrontage</th>\n",
       "      <th>LotArea</th>\n",
       "      <th>Street</th>\n",
       "      <th>Alley</th>\n",
       "      <th>LotShape</th>\n",
       "      <th>LandContour</th>\n",
       "      <th>Utilities</th>\n",
       "      <th>...</th>\n",
       "      <th>PoolArea</th>\n",
       "      <th>PoolQC</th>\n",
       "      <th>Fence</th>\n",
       "      <th>MiscFeature</th>\n",
       "      <th>MiscVal</th>\n",
       "      <th>MoSold</th>\n",
       "      <th>YrSold</th>\n",
       "      <th>SaleType</th>\n",
       "      <th>SaleCondition</th>\n",
       "      <th>SalePrice</th>\n",
       "    </tr>\n",
       "  </thead>\n",
       "  <tbody>\n",
       "    <tr>\n",
       "      <th>0</th>\n",
       "      <td>1</td>\n",
       "      <td>60</td>\n",
       "      <td>RL</td>\n",
       "      <td>65.0</td>\n",
       "      <td>8450</td>\n",
       "      <td>Pave</td>\n",
       "      <td>NaN</td>\n",
       "      <td>Reg</td>\n",
       "      <td>Lvl</td>\n",
       "      <td>AllPub</td>\n",
       "      <td>...</td>\n",
       "      <td>0</td>\n",
       "      <td>NaN</td>\n",
       "      <td>NaN</td>\n",
       "      <td>NaN</td>\n",
       "      <td>0</td>\n",
       "      <td>2</td>\n",
       "      <td>2008</td>\n",
       "      <td>WD</td>\n",
       "      <td>Normal</td>\n",
       "      <td>208500</td>\n",
       "    </tr>\n",
       "    <tr>\n",
       "      <th>1</th>\n",
       "      <td>2</td>\n",
       "      <td>20</td>\n",
       "      <td>RL</td>\n",
       "      <td>80.0</td>\n",
       "      <td>9600</td>\n",
       "      <td>Pave</td>\n",
       "      <td>NaN</td>\n",
       "      <td>Reg</td>\n",
       "      <td>Lvl</td>\n",
       "      <td>AllPub</td>\n",
       "      <td>...</td>\n",
       "      <td>0</td>\n",
       "      <td>NaN</td>\n",
       "      <td>NaN</td>\n",
       "      <td>NaN</td>\n",
       "      <td>0</td>\n",
       "      <td>5</td>\n",
       "      <td>2007</td>\n",
       "      <td>WD</td>\n",
       "      <td>Normal</td>\n",
       "      <td>181500</td>\n",
       "    </tr>\n",
       "    <tr>\n",
       "      <th>2</th>\n",
       "      <td>3</td>\n",
       "      <td>60</td>\n",
       "      <td>RL</td>\n",
       "      <td>68.0</td>\n",
       "      <td>11250</td>\n",
       "      <td>Pave</td>\n",
       "      <td>NaN</td>\n",
       "      <td>IR1</td>\n",
       "      <td>Lvl</td>\n",
       "      <td>AllPub</td>\n",
       "      <td>...</td>\n",
       "      <td>0</td>\n",
       "      <td>NaN</td>\n",
       "      <td>NaN</td>\n",
       "      <td>NaN</td>\n",
       "      <td>0</td>\n",
       "      <td>9</td>\n",
       "      <td>2008</td>\n",
       "      <td>WD</td>\n",
       "      <td>Normal</td>\n",
       "      <td>223500</td>\n",
       "    </tr>\n",
       "    <tr>\n",
       "      <th>3</th>\n",
       "      <td>4</td>\n",
       "      <td>70</td>\n",
       "      <td>RL</td>\n",
       "      <td>60.0</td>\n",
       "      <td>9550</td>\n",
       "      <td>Pave</td>\n",
       "      <td>NaN</td>\n",
       "      <td>IR1</td>\n",
       "      <td>Lvl</td>\n",
       "      <td>AllPub</td>\n",
       "      <td>...</td>\n",
       "      <td>0</td>\n",
       "      <td>NaN</td>\n",
       "      <td>NaN</td>\n",
       "      <td>NaN</td>\n",
       "      <td>0</td>\n",
       "      <td>2</td>\n",
       "      <td>2006</td>\n",
       "      <td>WD</td>\n",
       "      <td>Abnorml</td>\n",
       "      <td>140000</td>\n",
       "    </tr>\n",
       "    <tr>\n",
       "      <th>4</th>\n",
       "      <td>5</td>\n",
       "      <td>60</td>\n",
       "      <td>RL</td>\n",
       "      <td>84.0</td>\n",
       "      <td>14260</td>\n",
       "      <td>Pave</td>\n",
       "      <td>NaN</td>\n",
       "      <td>IR1</td>\n",
       "      <td>Lvl</td>\n",
       "      <td>AllPub</td>\n",
       "      <td>...</td>\n",
       "      <td>0</td>\n",
       "      <td>NaN</td>\n",
       "      <td>NaN</td>\n",
       "      <td>NaN</td>\n",
       "      <td>0</td>\n",
       "      <td>12</td>\n",
       "      <td>2008</td>\n",
       "      <td>WD</td>\n",
       "      <td>Normal</td>\n",
       "      <td>250000</td>\n",
       "    </tr>\n",
       "    <tr>\n",
       "      <th>...</th>\n",
       "      <td>...</td>\n",
       "      <td>...</td>\n",
       "      <td>...</td>\n",
       "      <td>...</td>\n",
       "      <td>...</td>\n",
       "      <td>...</td>\n",
       "      <td>...</td>\n",
       "      <td>...</td>\n",
       "      <td>...</td>\n",
       "      <td>...</td>\n",
       "      <td>...</td>\n",
       "      <td>...</td>\n",
       "      <td>...</td>\n",
       "      <td>...</td>\n",
       "      <td>...</td>\n",
       "      <td>...</td>\n",
       "      <td>...</td>\n",
       "      <td>...</td>\n",
       "      <td>...</td>\n",
       "      <td>...</td>\n",
       "      <td>...</td>\n",
       "    </tr>\n",
       "    <tr>\n",
       "      <th>1455</th>\n",
       "      <td>1456</td>\n",
       "      <td>60</td>\n",
       "      <td>RL</td>\n",
       "      <td>62.0</td>\n",
       "      <td>7917</td>\n",
       "      <td>Pave</td>\n",
       "      <td>NaN</td>\n",
       "      <td>Reg</td>\n",
       "      <td>Lvl</td>\n",
       "      <td>AllPub</td>\n",
       "      <td>...</td>\n",
       "      <td>0</td>\n",
       "      <td>NaN</td>\n",
       "      <td>NaN</td>\n",
       "      <td>NaN</td>\n",
       "      <td>0</td>\n",
       "      <td>8</td>\n",
       "      <td>2007</td>\n",
       "      <td>WD</td>\n",
       "      <td>Normal</td>\n",
       "      <td>175000</td>\n",
       "    </tr>\n",
       "    <tr>\n",
       "      <th>1456</th>\n",
       "      <td>1457</td>\n",
       "      <td>20</td>\n",
       "      <td>RL</td>\n",
       "      <td>85.0</td>\n",
       "      <td>13175</td>\n",
       "      <td>Pave</td>\n",
       "      <td>NaN</td>\n",
       "      <td>Reg</td>\n",
       "      <td>Lvl</td>\n",
       "      <td>AllPub</td>\n",
       "      <td>...</td>\n",
       "      <td>0</td>\n",
       "      <td>NaN</td>\n",
       "      <td>MnPrv</td>\n",
       "      <td>NaN</td>\n",
       "      <td>0</td>\n",
       "      <td>2</td>\n",
       "      <td>2010</td>\n",
       "      <td>WD</td>\n",
       "      <td>Normal</td>\n",
       "      <td>210000</td>\n",
       "    </tr>\n",
       "    <tr>\n",
       "      <th>1457</th>\n",
       "      <td>1458</td>\n",
       "      <td>70</td>\n",
       "      <td>RL</td>\n",
       "      <td>66.0</td>\n",
       "      <td>9042</td>\n",
       "      <td>Pave</td>\n",
       "      <td>NaN</td>\n",
       "      <td>Reg</td>\n",
       "      <td>Lvl</td>\n",
       "      <td>AllPub</td>\n",
       "      <td>...</td>\n",
       "      <td>0</td>\n",
       "      <td>NaN</td>\n",
       "      <td>GdPrv</td>\n",
       "      <td>Shed</td>\n",
       "      <td>2500</td>\n",
       "      <td>5</td>\n",
       "      <td>2010</td>\n",
       "      <td>WD</td>\n",
       "      <td>Normal</td>\n",
       "      <td>266500</td>\n",
       "    </tr>\n",
       "    <tr>\n",
       "      <th>1458</th>\n",
       "      <td>1459</td>\n",
       "      <td>20</td>\n",
       "      <td>RL</td>\n",
       "      <td>68.0</td>\n",
       "      <td>9717</td>\n",
       "      <td>Pave</td>\n",
       "      <td>NaN</td>\n",
       "      <td>Reg</td>\n",
       "      <td>Lvl</td>\n",
       "      <td>AllPub</td>\n",
       "      <td>...</td>\n",
       "      <td>0</td>\n",
       "      <td>NaN</td>\n",
       "      <td>NaN</td>\n",
       "      <td>NaN</td>\n",
       "      <td>0</td>\n",
       "      <td>4</td>\n",
       "      <td>2010</td>\n",
       "      <td>WD</td>\n",
       "      <td>Normal</td>\n",
       "      <td>142125</td>\n",
       "    </tr>\n",
       "    <tr>\n",
       "      <th>1459</th>\n",
       "      <td>1460</td>\n",
       "      <td>20</td>\n",
       "      <td>RL</td>\n",
       "      <td>75.0</td>\n",
       "      <td>9937</td>\n",
       "      <td>Pave</td>\n",
       "      <td>NaN</td>\n",
       "      <td>Reg</td>\n",
       "      <td>Lvl</td>\n",
       "      <td>AllPub</td>\n",
       "      <td>...</td>\n",
       "      <td>0</td>\n",
       "      <td>NaN</td>\n",
       "      <td>NaN</td>\n",
       "      <td>NaN</td>\n",
       "      <td>0</td>\n",
       "      <td>6</td>\n",
       "      <td>2008</td>\n",
       "      <td>WD</td>\n",
       "      <td>Normal</td>\n",
       "      <td>147500</td>\n",
       "    </tr>\n",
       "  </tbody>\n",
       "</table>\n",
       "<p>1460 rows × 81 columns</p>\n",
       "</div>"
      ],
      "text/plain": [
       "        Id  MSSubClass MSZoning  LotFrontage  LotArea Street Alley LotShape  \\\n",
       "0        1          60       RL         65.0     8450   Pave   NaN      Reg   \n",
       "1        2          20       RL         80.0     9600   Pave   NaN      Reg   \n",
       "2        3          60       RL         68.0    11250   Pave   NaN      IR1   \n",
       "3        4          70       RL         60.0     9550   Pave   NaN      IR1   \n",
       "4        5          60       RL         84.0    14260   Pave   NaN      IR1   \n",
       "...    ...         ...      ...          ...      ...    ...   ...      ...   \n",
       "1455  1456          60       RL         62.0     7917   Pave   NaN      Reg   \n",
       "1456  1457          20       RL         85.0    13175   Pave   NaN      Reg   \n",
       "1457  1458          70       RL         66.0     9042   Pave   NaN      Reg   \n",
       "1458  1459          20       RL         68.0     9717   Pave   NaN      Reg   \n",
       "1459  1460          20       RL         75.0     9937   Pave   NaN      Reg   \n",
       "\n",
       "     LandContour Utilities  ... PoolArea PoolQC  Fence MiscFeature MiscVal  \\\n",
       "0            Lvl    AllPub  ...        0    NaN    NaN         NaN       0   \n",
       "1            Lvl    AllPub  ...        0    NaN    NaN         NaN       0   \n",
       "2            Lvl    AllPub  ...        0    NaN    NaN         NaN       0   \n",
       "3            Lvl    AllPub  ...        0    NaN    NaN         NaN       0   \n",
       "4            Lvl    AllPub  ...        0    NaN    NaN         NaN       0   \n",
       "...          ...       ...  ...      ...    ...    ...         ...     ...   \n",
       "1455         Lvl    AllPub  ...        0    NaN    NaN         NaN       0   \n",
       "1456         Lvl    AllPub  ...        0    NaN  MnPrv         NaN       0   \n",
       "1457         Lvl    AllPub  ...        0    NaN  GdPrv        Shed    2500   \n",
       "1458         Lvl    AllPub  ...        0    NaN    NaN         NaN       0   \n",
       "1459         Lvl    AllPub  ...        0    NaN    NaN         NaN       0   \n",
       "\n",
       "     MoSold YrSold  SaleType  SaleCondition  SalePrice  \n",
       "0         2   2008        WD         Normal     208500  \n",
       "1         5   2007        WD         Normal     181500  \n",
       "2         9   2008        WD         Normal     223500  \n",
       "3         2   2006        WD        Abnorml     140000  \n",
       "4        12   2008        WD         Normal     250000  \n",
       "...     ...    ...       ...            ...        ...  \n",
       "1455      8   2007        WD         Normal     175000  \n",
       "1456      2   2010        WD         Normal     210000  \n",
       "1457      5   2010        WD         Normal     266500  \n",
       "1458      4   2010        WD         Normal     142125  \n",
       "1459      6   2008        WD         Normal     147500  \n",
       "\n",
       "[1460 rows x 81 columns]"
      ]
     },
     "execution_count": 5,
     "metadata": {},
     "output_type": "execute_result"
    }
   ],
   "source": [
    "df_train"
   ]
  },
  {
   "cell_type": "code",
   "execution_count": 6,
   "metadata": {
    "execution": {
     "iopub.execute_input": "2023-09-23T21:29:25.986045Z",
     "iopub.status.busy": "2023-09-23T21:29:25.985624Z",
     "iopub.status.idle": "2023-09-23T21:29:25.991290Z",
     "shell.execute_reply": "2023-09-23T21:29:25.990093Z",
     "shell.execute_reply.started": "2023-09-23T21:29:25.986012Z"
    }
   },
   "outputs": [],
   "source": [
    "cols=['LotFrontage','FireplaceQu'       \n",
    ",'MasVnrType'        \n",
    ",'Fence'           \n",
    ",'Alley'            \n",
    ",'MiscFeature'      \n",
    ",'PoolQC']"
   ]
  },
  {
   "cell_type": "code",
   "execution_count": 7,
   "metadata": {
    "execution": {
     "iopub.execute_input": "2023-09-23T21:29:25.993432Z",
     "iopub.status.busy": "2023-09-23T21:29:25.993023Z",
     "iopub.status.idle": "2023-09-23T21:29:26.012623Z",
     "shell.execute_reply": "2023-09-23T21:29:26.011283Z",
     "shell.execute_reply.started": "2023-09-23T21:29:25.993351Z"
    }
   },
   "outputs": [],
   "source": [
    "df_train.drop(columns=cols,inplace=True)\n",
    "df_test.drop(columns=cols,inplace=True)"
   ]
  },
  {
   "cell_type": "code",
   "execution_count": 8,
   "metadata": {
    "execution": {
     "iopub.execute_input": "2023-09-23T21:29:26.015536Z",
     "iopub.status.busy": "2023-09-23T21:29:26.014299Z",
     "iopub.status.idle": "2023-09-23T21:29:26.051283Z",
     "shell.execute_reply": "2023-09-23T21:29:26.049531Z",
     "shell.execute_reply.started": "2023-09-23T21:29:26.015499Z"
    }
   },
   "outputs": [
    {
     "name": "stdout",
     "output_type": "stream",
     "text": [
      "<class 'pandas.core.frame.DataFrame'>\n",
      "RangeIndex: 1460 entries, 0 to 1459\n",
      "Data columns (total 74 columns):\n",
      " #   Column         Non-Null Count  Dtype  \n",
      "---  ------         --------------  -----  \n",
      " 0   Id             1460 non-null   int64  \n",
      " 1   MSSubClass     1460 non-null   int64  \n",
      " 2   MSZoning       1460 non-null   object \n",
      " 3   LotArea        1460 non-null   int64  \n",
      " 4   Street         1460 non-null   object \n",
      " 5   LotShape       1460 non-null   object \n",
      " 6   LandContour    1460 non-null   object \n",
      " 7   Utilities      1460 non-null   object \n",
      " 8   LotConfig      1460 non-null   object \n",
      " 9   LandSlope      1460 non-null   object \n",
      " 10  Neighborhood   1460 non-null   object \n",
      " 11  Condition1     1460 non-null   object \n",
      " 12  Condition2     1460 non-null   object \n",
      " 13  BldgType       1460 non-null   object \n",
      " 14  HouseStyle     1460 non-null   object \n",
      " 15  OverallQual    1460 non-null   int64  \n",
      " 16  OverallCond    1460 non-null   int64  \n",
      " 17  YearBuilt      1460 non-null   int64  \n",
      " 18  YearRemodAdd   1460 non-null   int64  \n",
      " 19  RoofStyle      1460 non-null   object \n",
      " 20  RoofMatl       1460 non-null   object \n",
      " 21  Exterior1st    1460 non-null   object \n",
      " 22  Exterior2nd    1460 non-null   object \n",
      " 23  MasVnrArea     1452 non-null   float64\n",
      " 24  ExterQual      1460 non-null   object \n",
      " 25  ExterCond      1460 non-null   object \n",
      " 26  Foundation     1460 non-null   object \n",
      " 27  BsmtQual       1423 non-null   object \n",
      " 28  BsmtCond       1423 non-null   object \n",
      " 29  BsmtExposure   1422 non-null   object \n",
      " 30  BsmtFinType1   1423 non-null   object \n",
      " 31  BsmtFinSF1     1460 non-null   int64  \n",
      " 32  BsmtFinType2   1422 non-null   object \n",
      " 33  BsmtFinSF2     1460 non-null   int64  \n",
      " 34  BsmtUnfSF      1460 non-null   int64  \n",
      " 35  TotalBsmtSF    1460 non-null   int64  \n",
      " 36  Heating        1460 non-null   object \n",
      " 37  HeatingQC      1460 non-null   object \n",
      " 38  CentralAir     1460 non-null   object \n",
      " 39  Electrical     1459 non-null   object \n",
      " 40  1stFlrSF       1460 non-null   int64  \n",
      " 41  2ndFlrSF       1460 non-null   int64  \n",
      " 42  LowQualFinSF   1460 non-null   int64  \n",
      " 43  GrLivArea      1460 non-null   int64  \n",
      " 44  BsmtFullBath   1460 non-null   int64  \n",
      " 45  BsmtHalfBath   1460 non-null   int64  \n",
      " 46  FullBath       1460 non-null   int64  \n",
      " 47  HalfBath       1460 non-null   int64  \n",
      " 48  BedroomAbvGr   1460 non-null   int64  \n",
      " 49  KitchenAbvGr   1460 non-null   int64  \n",
      " 50  KitchenQual    1460 non-null   object \n",
      " 51  TotRmsAbvGrd   1460 non-null   int64  \n",
      " 52  Functional     1460 non-null   object \n",
      " 53  Fireplaces     1460 non-null   int64  \n",
      " 54  GarageType     1379 non-null   object \n",
      " 55  GarageYrBlt    1379 non-null   float64\n",
      " 56  GarageFinish   1379 non-null   object \n",
      " 57  GarageCars     1460 non-null   int64  \n",
      " 58  GarageArea     1460 non-null   int64  \n",
      " 59  GarageQual     1379 non-null   object \n",
      " 60  GarageCond     1379 non-null   object \n",
      " 61  PavedDrive     1460 non-null   object \n",
      " 62  WoodDeckSF     1460 non-null   int64  \n",
      " 63  OpenPorchSF    1460 non-null   int64  \n",
      " 64  EnclosedPorch  1460 non-null   int64  \n",
      " 65  3SsnPorch      1460 non-null   int64  \n",
      " 66  ScreenPorch    1460 non-null   int64  \n",
      " 67  PoolArea       1460 non-null   int64  \n",
      " 68  MiscVal        1460 non-null   int64  \n",
      " 69  MoSold         1460 non-null   int64  \n",
      " 70  YrSold         1460 non-null   int64  \n",
      " 71  SaleType       1460 non-null   object \n",
      " 72  SaleCondition  1460 non-null   object \n",
      " 73  SalePrice      1460 non-null   int64  \n",
      "dtypes: float64(2), int64(35), object(37)\n",
      "memory usage: 844.2+ KB\n"
     ]
    }
   ],
   "source": [
    "df_train.info()"
   ]
  },
  {
   "cell_type": "code",
   "execution_count": 9,
   "metadata": {
    "execution": {
     "iopub.execute_input": "2023-09-23T21:29:26.053446Z",
     "iopub.status.busy": "2023-09-23T21:29:26.053080Z",
     "iopub.status.idle": "2023-09-23T21:29:26.062344Z",
     "shell.execute_reply": "2023-09-23T21:29:26.060819Z",
     "shell.execute_reply.started": "2023-09-23T21:29:26.053415Z"
    }
   },
   "outputs": [],
   "source": [
    "object_columns = df_train.select_dtypes(include=['object'])\n",
    "object_columns_test= df_test.select_dtypes(include=['object'])\n",
    "# object_columns"
   ]
  },
  {
   "cell_type": "code",
   "execution_count": 10,
   "metadata": {
    "execution": {
     "iopub.execute_input": "2023-09-23T21:29:26.064135Z",
     "iopub.status.busy": "2023-09-23T21:29:26.063783Z",
     "iopub.status.idle": "2023-09-23T21:29:26.605835Z",
     "shell.execute_reply": "2023-09-23T21:29:26.604665Z",
     "shell.execute_reply.started": "2023-09-23T21:29:26.064095Z"
    }
   },
   "outputs": [
    {
     "name": "stdout",
     "output_type": "stream",
     "text": [
      "Column: MSZoning\n",
      "Unique Values: ['RL' 'RM' 'C (all)' 'FV' 'RH']\n",
      "Value Counts:\n",
      "RL         1151\n",
      "RM          218\n",
      "FV           65\n",
      "RH           16\n",
      "C (all)      10\n",
      "Name: MSZoning, dtype: int64\n",
      "\n",
      "Column: Street\n",
      "Unique Values: ['Pave' 'Grvl']\n",
      "Value Counts:\n",
      "Pave    1454\n",
      "Grvl       6\n",
      "Name: Street, dtype: int64\n",
      "\n",
      "Column: LotShape\n",
      "Unique Values: ['Reg' 'IR1' 'IR2' 'IR3']\n",
      "Value Counts:\n",
      "Reg    925\n",
      "IR1    484\n",
      "IR2     41\n",
      "IR3     10\n",
      "Name: LotShape, dtype: int64\n",
      "\n",
      "Column: LandContour\n",
      "Unique Values: ['Lvl' 'Bnk' 'Low' 'HLS']\n",
      "Value Counts:\n",
      "Lvl    1311\n",
      "Bnk      63\n",
      "HLS      50\n",
      "Low      36\n",
      "Name: LandContour, dtype: int64\n",
      "\n",
      "Column: Utilities\n",
      "Unique Values: ['AllPub' 'NoSeWa']\n",
      "Value Counts:\n",
      "AllPub    1459\n",
      "NoSeWa       1\n",
      "Name: Utilities, dtype: int64\n",
      "\n",
      "Column: LotConfig\n",
      "Unique Values: ['Inside' 'FR2' 'Corner' 'CulDSac' 'FR3']\n",
      "Value Counts:\n",
      "Inside     1052\n",
      "Corner      263\n",
      "CulDSac      94\n",
      "FR2          47\n",
      "FR3           4\n",
      "Name: LotConfig, dtype: int64\n",
      "\n",
      "Column: LandSlope\n",
      "Unique Values: ['Gtl' 'Mod' 'Sev']\n",
      "Value Counts:\n",
      "Gtl    1382\n",
      "Mod      65\n",
      "Sev      13\n",
      "Name: LandSlope, dtype: int64\n",
      "\n",
      "Column: Neighborhood\n",
      "Unique Values: ['CollgCr' 'Veenker' 'Crawfor' 'NoRidge' 'Mitchel' 'Somerst' 'NWAmes'\n",
      " 'OldTown' 'BrkSide' 'Sawyer' 'NridgHt' 'NAmes' 'SawyerW' 'IDOTRR'\n",
      " 'MeadowV' 'Edwards' 'Timber' 'Gilbert' 'StoneBr' 'ClearCr' 'NPkVill'\n",
      " 'Blmngtn' 'BrDale' 'SWISU' 'Blueste']\n",
      "Value Counts:\n",
      "NAmes      225\n",
      "CollgCr    150\n",
      "OldTown    113\n",
      "Edwards    100\n",
      "Somerst     86\n",
      "Gilbert     79\n",
      "NridgHt     77\n",
      "Sawyer      74\n",
      "NWAmes      73\n",
      "SawyerW     59\n",
      "BrkSide     58\n",
      "Crawfor     51\n",
      "Mitchel     49\n",
      "NoRidge     41\n",
      "Timber      38\n",
      "IDOTRR      37\n",
      "ClearCr     28\n",
      "StoneBr     25\n",
      "SWISU       25\n",
      "MeadowV     17\n",
      "Blmngtn     17\n",
      "BrDale      16\n",
      "Veenker     11\n",
      "NPkVill      9\n",
      "Blueste      2\n",
      "Name: Neighborhood, dtype: int64\n",
      "\n",
      "Column: Condition1\n",
      "Unique Values: ['Norm' 'Feedr' 'PosN' 'Artery' 'RRAe' 'RRNn' 'RRAn' 'PosA' 'RRNe']\n",
      "Value Counts:\n",
      "Norm      1260\n",
      "Feedr       81\n",
      "Artery      48\n",
      "RRAn        26\n",
      "PosN        19\n",
      "RRAe        11\n",
      "PosA         8\n",
      "RRNn         5\n",
      "RRNe         2\n",
      "Name: Condition1, dtype: int64\n",
      "\n",
      "Column: Condition2\n",
      "Unique Values: ['Norm' 'Artery' 'RRNn' 'Feedr' 'PosN' 'PosA' 'RRAn' 'RRAe']\n",
      "Value Counts:\n",
      "Norm      1445\n",
      "Feedr        6\n",
      "Artery       2\n",
      "RRNn         2\n",
      "PosN         2\n",
      "PosA         1\n",
      "RRAn         1\n",
      "RRAe         1\n",
      "Name: Condition2, dtype: int64\n",
      "\n",
      "Column: BldgType\n",
      "Unique Values: ['1Fam' '2fmCon' 'Duplex' 'TwnhsE' 'Twnhs']\n",
      "Value Counts:\n",
      "1Fam      1220\n",
      "TwnhsE     114\n",
      "Duplex      52\n",
      "Twnhs       43\n",
      "2fmCon      31\n",
      "Name: BldgType, dtype: int64\n",
      "\n",
      "Column: HouseStyle\n",
      "Unique Values: ['2Story' '1Story' '1.5Fin' '1.5Unf' 'SFoyer' 'SLvl' '2.5Unf' '2.5Fin']\n",
      "Value Counts:\n",
      "1Story    726\n",
      "2Story    445\n",
      "1.5Fin    154\n",
      "SLvl       65\n",
      "SFoyer     37\n",
      "1.5Unf     14\n",
      "2.5Unf     11\n",
      "2.5Fin      8\n",
      "Name: HouseStyle, dtype: int64\n",
      "\n",
      "Column: RoofStyle\n",
      "Unique Values: ['Gable' 'Hip' 'Gambrel' 'Mansard' 'Flat' 'Shed']\n",
      "Value Counts:\n",
      "Gable      1141\n",
      "Hip         286\n",
      "Flat         13\n",
      "Gambrel      11\n",
      "Mansard       7\n",
      "Shed          2\n",
      "Name: RoofStyle, dtype: int64\n",
      "\n",
      "Column: RoofMatl\n",
      "Unique Values: ['CompShg' 'WdShngl' 'Metal' 'WdShake' 'Membran' 'Tar&Grv' 'Roll'\n",
      " 'ClyTile']\n",
      "Value Counts:\n",
      "CompShg    1434\n",
      "Tar&Grv      11\n",
      "WdShngl       6\n",
      "WdShake       5\n",
      "Metal         1\n",
      "Membran       1\n",
      "Roll          1\n",
      "ClyTile       1\n",
      "Name: RoofMatl, dtype: int64\n",
      "\n",
      "Column: Exterior1st\n",
      "Unique Values: ['VinylSd' 'MetalSd' 'Wd Sdng' 'HdBoard' 'BrkFace' 'WdShing' 'CemntBd'\n",
      " 'Plywood' 'AsbShng' 'Stucco' 'BrkComm' 'AsphShn' 'Stone' 'ImStucc'\n",
      " 'CBlock']\n",
      "Value Counts:\n",
      "VinylSd    515\n",
      "HdBoard    222\n",
      "MetalSd    220\n",
      "Wd Sdng    206\n",
      "Plywood    108\n",
      "CemntBd     61\n",
      "BrkFace     50\n",
      "WdShing     26\n",
      "Stucco      25\n",
      "AsbShng     20\n",
      "BrkComm      2\n",
      "Stone        2\n",
      "AsphShn      1\n",
      "ImStucc      1\n",
      "CBlock       1\n",
      "Name: Exterior1st, dtype: int64\n",
      "\n",
      "Column: Exterior2nd\n",
      "Unique Values: ['VinylSd' 'MetalSd' 'Wd Shng' 'HdBoard' 'Plywood' 'Wd Sdng' 'CmentBd'\n",
      " 'BrkFace' 'Stucco' 'AsbShng' 'Brk Cmn' 'ImStucc' 'AsphShn' 'Stone'\n",
      " 'Other' 'CBlock']\n",
      "Value Counts:\n",
      "VinylSd    504\n",
      "MetalSd    214\n",
      "HdBoard    207\n",
      "Wd Sdng    197\n",
      "Plywood    142\n",
      "CmentBd     60\n",
      "Wd Shng     38\n",
      "Stucco      26\n",
      "BrkFace     25\n",
      "AsbShng     20\n",
      "ImStucc     10\n",
      "Brk Cmn      7\n",
      "Stone        5\n",
      "AsphShn      3\n",
      "Other        1\n",
      "CBlock       1\n",
      "Name: Exterior2nd, dtype: int64\n",
      "\n",
      "Column: ExterQual\n",
      "Unique Values: ['Gd' 'TA' 'Ex' 'Fa']\n",
      "Value Counts:\n",
      "TA    906\n",
      "Gd    488\n",
      "Ex     52\n",
      "Fa     14\n",
      "Name: ExterQual, dtype: int64\n",
      "\n",
      "Column: ExterCond\n",
      "Unique Values: ['TA' 'Gd' 'Fa' 'Po' 'Ex']\n",
      "Value Counts:\n",
      "TA    1282\n",
      "Gd     146\n",
      "Fa      28\n",
      "Ex       3\n",
      "Po       1\n",
      "Name: ExterCond, dtype: int64\n",
      "\n",
      "Column: Foundation\n",
      "Unique Values: ['PConc' 'CBlock' 'BrkTil' 'Wood' 'Slab' 'Stone']\n",
      "Value Counts:\n",
      "PConc     647\n",
      "CBlock    634\n",
      "BrkTil    146\n",
      "Slab       24\n",
      "Stone       6\n",
      "Wood        3\n",
      "Name: Foundation, dtype: int64\n",
      "\n",
      "Column: BsmtQual\n",
      "Unique Values: ['Gd' 'TA' 'Ex' nan 'Fa']\n",
      "Value Counts:\n",
      "TA    649\n",
      "Gd    618\n",
      "Ex    121\n",
      "Fa     35\n",
      "Name: BsmtQual, dtype: int64\n",
      "\n",
      "Column: BsmtCond\n",
      "Unique Values: ['TA' 'Gd' nan 'Fa' 'Po']\n",
      "Value Counts:\n",
      "TA    1311\n",
      "Gd      65\n",
      "Fa      45\n",
      "Po       2\n",
      "Name: BsmtCond, dtype: int64\n",
      "\n",
      "Column: BsmtExposure\n",
      "Unique Values: ['No' 'Gd' 'Mn' 'Av' nan]\n",
      "Value Counts:\n",
      "No    953\n",
      "Av    221\n",
      "Gd    134\n",
      "Mn    114\n",
      "Name: BsmtExposure, dtype: int64\n",
      "\n",
      "Column: BsmtFinType1\n",
      "Unique Values: ['GLQ' 'ALQ' 'Unf' 'Rec' 'BLQ' nan 'LwQ']\n",
      "Value Counts:\n",
      "Unf    430\n",
      "GLQ    418\n",
      "ALQ    220\n",
      "BLQ    148\n",
      "Rec    133\n",
      "LwQ     74\n",
      "Name: BsmtFinType1, dtype: int64\n",
      "\n",
      "Column: BsmtFinType2\n",
      "Unique Values: ['Unf' 'BLQ' nan 'ALQ' 'Rec' 'LwQ' 'GLQ']\n",
      "Value Counts:\n",
      "Unf    1256\n",
      "Rec      54\n",
      "LwQ      46\n",
      "BLQ      33\n",
      "ALQ      19\n",
      "GLQ      14\n",
      "Name: BsmtFinType2, dtype: int64\n",
      "\n",
      "Column: Heating\n",
      "Unique Values: ['GasA' 'GasW' 'Grav' 'Wall' 'OthW' 'Floor']\n",
      "Value Counts:\n",
      "GasA     1428\n",
      "GasW       18\n",
      "Grav        7\n",
      "Wall        4\n",
      "OthW        2\n",
      "Floor       1\n",
      "Name: Heating, dtype: int64\n",
      "\n",
      "Column: HeatingQC\n",
      "Unique Values: ['Ex' 'Gd' 'TA' 'Fa' 'Po']\n",
      "Value Counts:\n",
      "Ex    741\n",
      "TA    428\n",
      "Gd    241\n",
      "Fa     49\n",
      "Po      1\n",
      "Name: HeatingQC, dtype: int64\n",
      "\n",
      "Column: CentralAir\n",
      "Unique Values: ['Y' 'N']\n",
      "Value Counts:\n",
      "Y    1365\n",
      "N      95\n",
      "Name: CentralAir, dtype: int64\n",
      "\n",
      "Column: Electrical\n",
      "Unique Values: ['SBrkr' 'FuseF' 'FuseA' 'FuseP' 'Mix' nan]\n",
      "Value Counts:\n",
      "SBrkr    1334\n",
      "FuseA      94\n",
      "FuseF      27\n",
      "FuseP       3\n",
      "Mix         1\n",
      "Name: Electrical, dtype: int64\n",
      "\n",
      "Column: KitchenQual\n",
      "Unique Values: ['Gd' 'TA' 'Ex' 'Fa']\n",
      "Value Counts:\n",
      "TA    735\n",
      "Gd    586\n",
      "Ex    100\n",
      "Fa     39\n",
      "Name: KitchenQual, dtype: int64\n",
      "\n",
      "Column: Functional\n",
      "Unique Values: ['Typ' 'Min1' 'Maj1' 'Min2' 'Mod' 'Maj2' 'Sev']\n",
      "Value Counts:\n",
      "Typ     1360\n",
      "Min2      34\n",
      "Min1      31\n",
      "Mod       15\n",
      "Maj1      14\n",
      "Maj2       5\n",
      "Sev        1\n",
      "Name: Functional, dtype: int64\n",
      "\n",
      "Column: GarageType\n",
      "Unique Values: ['Attchd' 'Detchd' 'BuiltIn' 'CarPort' nan 'Basment' '2Types']\n",
      "Value Counts:\n",
      "Attchd     870\n",
      "Detchd     387\n",
      "BuiltIn     88\n",
      "Basment     19\n",
      "CarPort      9\n",
      "2Types       6\n",
      "Name: GarageType, dtype: int64\n",
      "\n",
      "Column: GarageFinish\n",
      "Unique Values: ['RFn' 'Unf' 'Fin' nan]\n",
      "Value Counts:\n",
      "Unf    605\n",
      "RFn    422\n",
      "Fin    352\n",
      "Name: GarageFinish, dtype: int64\n",
      "\n",
      "Column: GarageQual\n",
      "Unique Values: ['TA' 'Fa' 'Gd' nan 'Ex' 'Po']\n",
      "Value Counts:\n",
      "TA    1311\n",
      "Fa      48\n",
      "Gd      14\n",
      "Ex       3\n",
      "Po       3\n",
      "Name: GarageQual, dtype: int64\n",
      "\n",
      "Column: GarageCond\n",
      "Unique Values: ['TA' 'Fa' nan 'Gd' 'Po' 'Ex']\n",
      "Value Counts:\n",
      "TA    1326\n",
      "Fa      35\n",
      "Gd       9\n",
      "Po       7\n",
      "Ex       2\n",
      "Name: GarageCond, dtype: int64\n",
      "\n",
      "Column: PavedDrive\n",
      "Unique Values: ['Y' 'N' 'P']\n",
      "Value Counts:\n",
      "Y    1340\n",
      "N      90\n",
      "P      30\n",
      "Name: PavedDrive, dtype: int64\n",
      "\n",
      "Column: SaleType\n",
      "Unique Values: ['WD' 'New' 'COD' 'ConLD' 'ConLI' 'CWD' 'ConLw' 'Con' 'Oth']\n",
      "Value Counts:\n",
      "WD       1267\n",
      "New       122\n",
      "COD        43\n",
      "ConLD       9\n",
      "ConLI       5\n",
      "ConLw       5\n",
      "CWD         4\n",
      "Oth         3\n",
      "Con         2\n",
      "Name: SaleType, dtype: int64\n",
      "\n",
      "Column: SaleCondition\n",
      "Unique Values: ['Normal' 'Abnorml' 'Partial' 'AdjLand' 'Alloca' 'Family']\n",
      "Value Counts:\n",
      "Normal     1198\n",
      "Partial     125\n",
      "Abnorml     101\n",
      "Family       20\n",
      "Alloca       12\n",
      "AdjLand       4\n",
      "Name: SaleCondition, dtype: int64\n",
      "\n"
     ]
    }
   ],
   "source": [
    "for column in object_columns.columns:\n",
    "    unique_values = object_columns[column].unique()\n",
    "    value_counts = object_columns[column].value_counts()\n",
    "    \n",
    "    print(f\"Column: {column}\")\n",
    "    print(f\"Unique Values: {unique_values}\")\n",
    "    print(f\"Value Counts:\\n{value_counts}\\n\")"
   ]
  },
  {
   "cell_type": "code",
   "execution_count": 11,
   "metadata": {
    "execution": {
     "iopub.execute_input": "2023-09-23T21:29:26.611705Z",
     "iopub.status.busy": "2023-09-23T21:29:26.611213Z",
     "iopub.status.idle": "2023-09-23T21:29:26.617916Z",
     "shell.execute_reply": "2023-09-23T21:29:26.616261Z",
     "shell.execute_reply.started": "2023-09-23T21:29:26.611646Z"
    }
   },
   "outputs": [],
   "source": [
    "# Removed this step since simplely dropping rest of the null datapoint .... reduces rmse value furthur from 31k to 28k\n",
    "# df_train_modified = df_train.fillna(df_train.mode().iloc[0])\n",
    "# df_test_modified = df_test.fillna(df_test.mode().iloc[0])"
   ]
  },
  {
   "cell_type": "code",
   "execution_count": 12,
   "metadata": {
    "execution": {
     "iopub.execute_input": "2023-09-23T21:29:26.620622Z",
     "iopub.status.busy": "2023-09-23T21:29:26.620202Z",
     "iopub.status.idle": "2023-09-23T21:29:26.631993Z",
     "shell.execute_reply": "2023-09-23T21:29:26.630876Z",
     "shell.execute_reply.started": "2023-09-23T21:29:26.620566Z"
    }
   },
   "outputs": [],
   "source": [
    "# df_train_modified.info()"
   ]
  },
  {
   "cell_type": "code",
   "execution_count": 13,
   "metadata": {
    "execution": {
     "iopub.execute_input": "2023-09-23T21:29:26.633583Z",
     "iopub.status.busy": "2023-09-23T21:29:26.633202Z",
     "iopub.status.idle": "2023-09-23T21:29:26.648958Z",
     "shell.execute_reply": "2023-09-23T21:29:26.646985Z",
     "shell.execute_reply.started": "2023-09-23T21:29:26.633551Z"
    }
   },
   "outputs": [
    {
     "data": {
      "text/plain": [
       "(1460, 74)"
      ]
     },
     "execution_count": 13,
     "metadata": {},
     "output_type": "execute_result"
    }
   ],
   "source": [
    "df_train.shape"
   ]
  },
  {
   "cell_type": "code",
   "execution_count": 14,
   "metadata": {
    "execution": {
     "iopub.execute_input": "2023-09-23T21:29:26.651420Z",
     "iopub.status.busy": "2023-09-23T21:29:26.650974Z",
     "iopub.status.idle": "2023-09-23T21:29:26.663071Z",
     "shell.execute_reply": "2023-09-23T21:29:26.661670Z",
     "shell.execute_reply.started": "2023-09-23T21:29:26.651378Z"
    }
   },
   "outputs": [
    {
     "data": {
      "text/plain": [
       "(1459, 73)"
      ]
     },
     "execution_count": 14,
     "metadata": {},
     "output_type": "execute_result"
    }
   ],
   "source": [
    "df_test.shape"
   ]
  },
  {
   "cell_type": "code",
   "execution_count": 15,
   "metadata": {
    "execution": {
     "iopub.execute_input": "2023-09-23T21:29:26.664700Z",
     "iopub.status.busy": "2023-09-23T21:29:26.664253Z",
     "iopub.status.idle": "2023-09-23T21:29:26.692378Z",
     "shell.execute_reply": "2023-09-23T21:29:26.691266Z",
     "shell.execute_reply.started": "2023-09-23T21:29:26.664660Z"
    }
   },
   "outputs": [
    {
     "name": "stdout",
     "output_type": "stream",
     "text": [
      "<class 'pandas.core.frame.DataFrame'>\n",
      "RangeIndex: 1459 entries, 0 to 1458\n",
      "Data columns (total 73 columns):\n",
      " #   Column         Non-Null Count  Dtype  \n",
      "---  ------         --------------  -----  \n",
      " 0   Id             1459 non-null   int64  \n",
      " 1   MSSubClass     1459 non-null   int64  \n",
      " 2   MSZoning       1455 non-null   object \n",
      " 3   LotArea        1459 non-null   int64  \n",
      " 4   Street         1459 non-null   object \n",
      " 5   LotShape       1459 non-null   object \n",
      " 6   LandContour    1459 non-null   object \n",
      " 7   Utilities      1457 non-null   object \n",
      " 8   LotConfig      1459 non-null   object \n",
      " 9   LandSlope      1459 non-null   object \n",
      " 10  Neighborhood   1459 non-null   object \n",
      " 11  Condition1     1459 non-null   object \n",
      " 12  Condition2     1459 non-null   object \n",
      " 13  BldgType       1459 non-null   object \n",
      " 14  HouseStyle     1459 non-null   object \n",
      " 15  OverallQual    1459 non-null   int64  \n",
      " 16  OverallCond    1459 non-null   int64  \n",
      " 17  YearBuilt      1459 non-null   int64  \n",
      " 18  YearRemodAdd   1459 non-null   int64  \n",
      " 19  RoofStyle      1459 non-null   object \n",
      " 20  RoofMatl       1459 non-null   object \n",
      " 21  Exterior1st    1458 non-null   object \n",
      " 22  Exterior2nd    1458 non-null   object \n",
      " 23  MasVnrArea     1444 non-null   float64\n",
      " 24  ExterQual      1459 non-null   object \n",
      " 25  ExterCond      1459 non-null   object \n",
      " 26  Foundation     1459 non-null   object \n",
      " 27  BsmtQual       1415 non-null   object \n",
      " 28  BsmtCond       1414 non-null   object \n",
      " 29  BsmtExposure   1415 non-null   object \n",
      " 30  BsmtFinType1   1417 non-null   object \n",
      " 31  BsmtFinSF1     1458 non-null   float64\n",
      " 32  BsmtFinType2   1417 non-null   object \n",
      " 33  BsmtFinSF2     1458 non-null   float64\n",
      " 34  BsmtUnfSF      1458 non-null   float64\n",
      " 35  TotalBsmtSF    1458 non-null   float64\n",
      " 36  Heating        1459 non-null   object \n",
      " 37  HeatingQC      1459 non-null   object \n",
      " 38  CentralAir     1459 non-null   object \n",
      " 39  Electrical     1459 non-null   object \n",
      " 40  1stFlrSF       1459 non-null   int64  \n",
      " 41  2ndFlrSF       1459 non-null   int64  \n",
      " 42  LowQualFinSF   1459 non-null   int64  \n",
      " 43  GrLivArea      1459 non-null   int64  \n",
      " 44  BsmtFullBath   1457 non-null   float64\n",
      " 45  BsmtHalfBath   1457 non-null   float64\n",
      " 46  FullBath       1459 non-null   int64  \n",
      " 47  HalfBath       1459 non-null   int64  \n",
      " 48  BedroomAbvGr   1459 non-null   int64  \n",
      " 49  KitchenAbvGr   1459 non-null   int64  \n",
      " 50  KitchenQual    1458 non-null   object \n",
      " 51  TotRmsAbvGrd   1459 non-null   int64  \n",
      " 52  Functional     1457 non-null   object \n",
      " 53  Fireplaces     1459 non-null   int64  \n",
      " 54  GarageType     1383 non-null   object \n",
      " 55  GarageYrBlt    1381 non-null   float64\n",
      " 56  GarageFinish   1381 non-null   object \n",
      " 57  GarageCars     1458 non-null   float64\n",
      " 58  GarageArea     1458 non-null   float64\n",
      " 59  GarageQual     1381 non-null   object \n",
      " 60  GarageCond     1381 non-null   object \n",
      " 61  PavedDrive     1459 non-null   object \n",
      " 62  WoodDeckSF     1459 non-null   int64  \n",
      " 63  OpenPorchSF    1459 non-null   int64  \n",
      " 64  EnclosedPorch  1459 non-null   int64  \n",
      " 65  3SsnPorch      1459 non-null   int64  \n",
      " 66  ScreenPorch    1459 non-null   int64  \n",
      " 67  PoolArea       1459 non-null   int64  \n",
      " 68  MiscVal        1459 non-null   int64  \n",
      " 69  MoSold         1459 non-null   int64  \n",
      " 70  YrSold         1459 non-null   int64  \n",
      " 71  SaleType       1458 non-null   object \n",
      " 72  SaleCondition  1459 non-null   object \n",
      "dtypes: float64(10), int64(26), object(37)\n",
      "memory usage: 832.2+ KB\n"
     ]
    }
   ],
   "source": [
    "df_test.info()"
   ]
  },
  {
   "cell_type": "code",
   "execution_count": 16,
   "metadata": {
    "execution": {
     "iopub.execute_input": "2023-09-23T21:29:26.695073Z",
     "iopub.status.busy": "2023-09-23T21:29:26.693879Z",
     "iopub.status.idle": "2023-09-23T21:29:26.709966Z",
     "shell.execute_reply": "2023-09-23T21:29:26.708656Z",
     "shell.execute_reply.started": "2023-09-23T21:29:26.695022Z"
    }
   },
   "outputs": [],
   "source": [
    "df_train.dropna(inplace=True)"
   ]
  },
  {
   "cell_type": "code",
   "execution_count": 17,
   "metadata": {
    "execution": {
     "iopub.execute_input": "2023-09-23T21:29:26.711883Z",
     "iopub.status.busy": "2023-09-23T21:29:26.711451Z",
     "iopub.status.idle": "2023-09-23T21:29:26.723075Z",
     "shell.execute_reply": "2023-09-23T21:29:26.721804Z",
     "shell.execute_reply.started": "2023-09-23T21:29:26.711851Z"
    }
   },
   "outputs": [],
   "source": [
    "# gotta drop separate label from train\n",
    "df_train_labels=df_train['SalePrice']\n",
    "df_train=df_train.drop(columns=['SalePrice'],axis=1)"
   ]
  },
  {
   "cell_type": "code",
   "execution_count": 18,
   "metadata": {
    "execution": {
     "iopub.execute_input": "2023-09-23T21:29:26.724794Z",
     "iopub.status.busy": "2023-09-23T21:29:26.724459Z",
     "iopub.status.idle": "2023-09-23T21:29:26.738892Z",
     "shell.execute_reply": "2023-09-23T21:29:26.737924Z",
     "shell.execute_reply.started": "2023-09-23T21:29:26.724766Z"
    }
   },
   "outputs": [
    {
     "data": {
      "text/plain": [
       "(1338, 73)"
      ]
     },
     "execution_count": 18,
     "metadata": {},
     "output_type": "execute_result"
    }
   ],
   "source": [
    "df_train.shape"
   ]
  },
  {
   "cell_type": "code",
   "execution_count": 19,
   "metadata": {
    "execution": {
     "iopub.execute_input": "2023-09-23T21:29:26.741254Z",
     "iopub.status.busy": "2023-09-23T21:29:26.740102Z",
     "iopub.status.idle": "2023-09-23T21:29:26.755306Z",
     "shell.execute_reply": "2023-09-23T21:29:26.754039Z",
     "shell.execute_reply.started": "2023-09-23T21:29:26.741210Z"
    }
   },
   "outputs": [
    {
     "data": {
      "text/plain": [
       "(1459, 73)"
      ]
     },
     "execution_count": 19,
     "metadata": {},
     "output_type": "execute_result"
    }
   ],
   "source": [
    "df_test.shape"
   ]
  },
  {
   "cell_type": "code",
   "execution_count": 20,
   "metadata": {
    "execution": {
     "iopub.execute_input": "2023-09-23T21:29:26.757548Z",
     "iopub.status.busy": "2023-09-23T21:29:26.756589Z",
     "iopub.status.idle": "2023-09-23T21:29:26.767909Z",
     "shell.execute_reply": "2023-09-23T21:29:26.766744Z",
     "shell.execute_reply.started": "2023-09-23T21:29:26.757507Z"
    }
   },
   "outputs": [],
   "source": [
    "# train_columns = set(df_train.columns)\n",
    "# test_columns = set(df_test.columns)\n",
    "\n",
    "# # Check if the column sets are the same\n",
    "# if train_columns == test_columns:\n",
    "#     print(\"Training and test datasets have the same features.\")\n",
    "# else:\n",
    "#     print(\"Training and test datasets have different features.\")\n"
   ]
  },
  {
   "cell_type": "code",
   "execution_count": 21,
   "metadata": {
    "execution": {
     "iopub.execute_input": "2023-09-23T21:29:26.770061Z",
     "iopub.status.busy": "2023-09-23T21:29:26.769361Z",
     "iopub.status.idle": "2023-09-23T21:29:26.868243Z",
     "shell.execute_reply": "2023-09-23T21:29:26.866144Z",
     "shell.execute_reply.started": "2023-09-23T21:29:26.770025Z"
    }
   },
   "outputs": [],
   "source": [
    "# Select only the columns with data type 'object'\n",
    "object_columns = df_train.select_dtypes(include=['object'])\n",
    "object_columns_test = df_test.select_dtypes(include=['object'])\n",
    "\n",
    "# Perform one-hot encoding on the object columns\n",
    "object_columns_encoded = pd.get_dummies(object_columns, drop_first=True)\n",
    "object_columns_test_encoded = pd.get_dummies(object_columns_test, drop_first=True)\n",
    "\n",
    "# Concatenate the one-hot encoded object columns with the original DataFrame\n",
    "df_train_encoded = pd.concat([df_train.drop(object_columns.columns, axis=1), object_columns_encoded], axis=1)\n",
    "df_test_encoded = pd.concat([df_test.drop(object_columns_test.columns, axis=1), object_columns_test_encoded], axis=1)"
   ]
  },
  {
   "cell_type": "code",
   "execution_count": 22,
   "metadata": {
    "execution": {
     "iopub.execute_input": "2023-09-23T21:29:26.871043Z",
     "iopub.status.busy": "2023-09-23T21:29:26.870571Z",
     "iopub.status.idle": "2023-09-23T21:29:26.879397Z",
     "shell.execute_reply": "2023-09-23T21:29:26.877908Z",
     "shell.execute_reply.started": "2023-09-23T21:29:26.870973Z"
    }
   },
   "outputs": [
    {
     "data": {
      "text/plain": [
       "(1338, 224)"
      ]
     },
     "execution_count": 22,
     "metadata": {},
     "output_type": "execute_result"
    }
   ],
   "source": [
    "df_train_encoded.shape"
   ]
  },
  {
   "cell_type": "code",
   "execution_count": 23,
   "metadata": {
    "execution": {
     "iopub.execute_input": "2023-09-23T21:29:26.881707Z",
     "iopub.status.busy": "2023-09-23T21:29:26.881260Z",
     "iopub.status.idle": "2023-09-23T21:29:26.895060Z",
     "shell.execute_reply": "2023-09-23T21:29:26.893525Z",
     "shell.execute_reply.started": "2023-09-23T21:29:26.881671Z"
    }
   },
   "outputs": [
    {
     "data": {
      "text/plain": [
       "(1459, 213)"
      ]
     },
     "execution_count": 23,
     "metadata": {},
     "output_type": "execute_result"
    }
   ],
   "source": [
    "df_test_encoded.shape"
   ]
  },
  {
   "cell_type": "markdown",
   "metadata": {},
   "source": [
    "> different numbers of columns i,e features after encoding means maybe different features in dfs\n"
   ]
  },
  {
   "cell_type": "code",
   "execution_count": 24,
   "metadata": {
    "execution": {
     "iopub.execute_input": "2023-09-23T21:29:26.897032Z",
     "iopub.status.busy": "2023-09-23T21:29:26.896638Z",
     "iopub.status.idle": "2023-09-23T21:29:26.907184Z",
     "shell.execute_reply": "2023-09-23T21:29:26.906315Z",
     "shell.execute_reply.started": "2023-09-23T21:29:26.897001Z"
    }
   },
   "outputs": [
    {
     "name": "stdout",
     "output_type": "stream",
     "text": [
      "encoded Training and test datasets have different features.\n"
     ]
    }
   ],
   "source": [
    "train_columns = set(df_train_encoded.columns)\n",
    "test_columns = set(df_test_encoded.columns)\n",
    "\n",
    "# Check if the column sets are the same\n",
    "if train_columns == test_columns:\n",
    "    print(\"encoded Training and test datasets have the same features.\")\n",
    "else:\n",
    "    print(\"encoded Training and test datasets have different features.\")"
   ]
  },
  {
   "cell_type": "code",
   "execution_count": 25,
   "metadata": {
    "execution": {
     "iopub.execute_input": "2023-09-23T21:29:26.909045Z",
     "iopub.status.busy": "2023-09-23T21:29:26.908338Z",
     "iopub.status.idle": "2023-09-23T21:29:26.922495Z",
     "shell.execute_reply": "2023-09-23T21:29:26.920508Z",
     "shell.execute_reply.started": "2023-09-23T21:29:26.909015Z"
    }
   },
   "outputs": [
    {
     "name": "stdout",
     "output_type": "stream",
     "text": [
      "Columns unique to the training dataset:\n",
      "Exterior1st_ImStucc\n",
      "Condition2_RRAn\n",
      "RoofMatl_CompShg\n",
      "Exterior1st_Stone\n",
      "HouseStyle_2.5Fin\n",
      "Heating_OthW\n",
      "Condition2_RRNn\n",
      "GarageQual_Fa\n",
      "Electrical_Mix\n",
      "Exterior2nd_Other\n",
      "RoofMatl_Membran\n",
      "Condition2_RRAe\n",
      "RoofMatl_Metal\n",
      "RoofMatl_Roll\n",
      "Utilities_NoSeWa\n",
      "\n",
      "Columns unique to the test dataset:\n",
      "Heating_Wall\n",
      "Foundation_Slab\n",
      "Exterior1st_AsphShn\n",
      "ExterCond_Po\n"
     ]
    }
   ],
   "source": [
    "# Get the column names of the training and test datasets\n",
    "train_columns = set(df_train_encoded.columns)\n",
    "test_columns = set(df_test_encoded.columns)\n",
    "\n",
    "# Find columns unique to each dataset\n",
    "train_unique_columns = train_columns - test_columns\n",
    "test_unique_columns = test_columns - train_columns\n",
    "\n",
    "# Print the differences\n",
    "print(\"Columns unique to the training dataset:\")\n",
    "for column in train_unique_columns:\n",
    "    print(column)\n",
    "\n",
    "print(\"\\nColumns unique to the test dataset:\")\n",
    "for column in test_unique_columns:\n",
    "    print(column)"
   ]
  },
  {
   "cell_type": "code",
   "execution_count": 26,
   "metadata": {
    "execution": {
     "iopub.execute_input": "2023-09-23T21:29:26.924762Z",
     "iopub.status.busy": "2023-09-23T21:29:26.923970Z",
     "iopub.status.idle": "2023-09-23T21:29:26.950372Z",
     "shell.execute_reply": "2023-09-23T21:29:26.949398Z",
     "shell.execute_reply.started": "2023-09-23T21:29:26.924702Z"
    }
   },
   "outputs": [],
   "source": [
    "import pandas as pd\n",
    "\n",
    "# Assuming you have x_train and x_test DataFrames\n",
    "# Replace these with your actual data\n",
    "# x_train = ...\n",
    "# x_test = ...\n",
    "\n",
    "# Columns unique to the training dataset\n",
    "train_unique_columns = [\n",
    "    'RoofMatl_CompShg',\n",
    "    'Exterior1st_Stone',\n",
    "    'Exterior1st_ImStucc',\n",
    "    'Condition2_RRAe',\n",
    "    'RoofMatl_Metal',\n",
    "    'Heating_OthW',\n",
    "    'Exterior2nd_Other',\n",
    "    'Condition2_RRNn',\n",
    "    'RoofMatl_Membran',\n",
    "    'Electrical_Mix',\n",
    "    'GarageQual_Fa',\n",
    "    'RoofMatl_Roll',\n",
    "    'HouseStyle_2.5Fin',\n",
    "    'Condition2_RRAn',\n",
    "    'Utilities_NoSeWa'\n",
    "]\n",
    "\n",
    "# Columns unique to the test dataset\n",
    "test_unique_columns = [\n",
    "    'Heating_Wall',\n",
    "    'Foundation_Slab',\n",
    "    'ExterCond_Po',\n",
    "    'Exterior1st_AsphShn'  # Add other test unique columns here\n",
    "]\n",
    "\n",
    "# Drop the unique columns from their respective DataFrames\n",
    "df_train_encoded.drop(columns=train_unique_columns, inplace=True)\n",
    "df_test_encoded.drop(columns=test_unique_columns, inplace=True)\n",
    "\n",
    "# Now, df_train_encoded and df_test_encoded no longer contain the unique columns\n"
   ]
  },
  {
   "cell_type": "code",
   "execution_count": 27,
   "metadata": {
    "execution": {
     "iopub.execute_input": "2023-09-23T21:29:26.953282Z",
     "iopub.status.busy": "2023-09-23T21:29:26.952216Z",
     "iopub.status.idle": "2023-09-23T21:29:26.976994Z",
     "shell.execute_reply": "2023-09-23T21:29:26.975463Z",
     "shell.execute_reply.started": "2023-09-23T21:29:26.953228Z"
    }
   },
   "outputs": [
    {
     "data": {
      "text/plain": [
       "0"
      ]
     },
     "execution_count": 27,
     "metadata": {},
     "output_type": "execute_result"
    }
   ],
   "source": [
    "df_train_encoded.isnull().sum().sum()"
   ]
  },
  {
   "cell_type": "code",
   "execution_count": 28,
   "metadata": {
    "execution": {
     "iopub.execute_input": "2023-09-23T21:29:26.979904Z",
     "iopub.status.busy": "2023-09-23T21:29:26.979477Z",
     "iopub.status.idle": "2023-09-23T21:29:26.989004Z",
     "shell.execute_reply": "2023-09-23T21:29:26.987668Z",
     "shell.execute_reply.started": "2023-09-23T21:29:26.979869Z"
    }
   },
   "outputs": [
    {
     "data": {
      "text/plain": [
       "(1338, 209)"
      ]
     },
     "execution_count": 28,
     "metadata": {},
     "output_type": "execute_result"
    }
   ],
   "source": [
    "df_train_encoded.shape"
   ]
  },
  {
   "cell_type": "code",
   "execution_count": 29,
   "metadata": {
    "execution": {
     "iopub.execute_input": "2023-09-23T21:29:26.998116Z",
     "iopub.status.busy": "2023-09-23T21:29:26.997655Z",
     "iopub.status.idle": "2023-09-23T21:29:27.005100Z",
     "shell.execute_reply": "2023-09-23T21:29:27.003591Z",
     "shell.execute_reply.started": "2023-09-23T21:29:26.998083Z"
    }
   },
   "outputs": [
    {
     "data": {
      "text/plain": [
       "(1459, 209)"
      ]
     },
     "execution_count": 29,
     "metadata": {},
     "output_type": "execute_result"
    }
   ],
   "source": [
    "df_test_encoded.shape"
   ]
  },
  {
   "cell_type": "code",
   "execution_count": 30,
   "metadata": {
    "execution": {
     "iopub.execute_input": "2023-09-23T21:29:27.007822Z",
     "iopub.status.busy": "2023-09-23T21:29:27.007046Z",
     "iopub.status.idle": "2023-09-23T21:29:27.020184Z",
     "shell.execute_reply": "2023-09-23T21:29:27.018694Z",
     "shell.execute_reply.started": "2023-09-23T21:29:27.007781Z"
    }
   },
   "outputs": [],
   "source": [
    "# gotta drop saleprice label before encoding otherwise there would be mismatch in feature numbers in x_train and x_test \n",
    "# # moved this cell down by two unit\n",
    "# x=df_train_encoded.drop(columns=['SalePrice'],axis=1)\n",
    "# y=df_train_encoded['SalePrice']"
   ]
  },
  {
   "cell_type": "code",
   "execution_count": 31,
   "metadata": {
    "execution": {
     "iopub.execute_input": "2023-09-23T21:29:27.022511Z",
     "iopub.status.busy": "2023-09-23T21:29:27.022051Z",
     "iopub.status.idle": "2023-09-23T21:29:27.034008Z",
     "shell.execute_reply": "2023-09-23T21:29:27.032715Z",
     "shell.execute_reply.started": "2023-09-23T21:29:27.022454Z"
    }
   },
   "outputs": [],
   "source": [
    "x=df_train_encoded\n",
    "y=df_train_labels"
   ]
  },
  {
   "cell_type": "code",
   "execution_count": 32,
   "metadata": {
    "execution": {
     "iopub.execute_input": "2023-09-23T21:29:27.035957Z",
     "iopub.status.busy": "2023-09-23T21:29:27.035568Z",
     "iopub.status.idle": "2023-09-23T21:29:27.049787Z",
     "shell.execute_reply": "2023-09-23T21:29:27.048287Z",
     "shell.execute_reply.started": "2023-09-23T21:29:27.035920Z"
    }
   },
   "outputs": [
    {
     "data": {
      "text/plain": [
       "(1338, 209)"
      ]
     },
     "execution_count": 32,
     "metadata": {},
     "output_type": "execute_result"
    }
   ],
   "source": [
    "x.shape"
   ]
  },
  {
   "cell_type": "code",
   "execution_count": 33,
   "metadata": {
    "execution": {
     "iopub.execute_input": "2023-09-23T21:29:27.051893Z",
     "iopub.status.busy": "2023-09-23T21:29:27.050828Z",
     "iopub.status.idle": "2023-09-23T21:29:27.070863Z",
     "shell.execute_reply": "2023-09-23T21:29:27.069661Z",
     "shell.execute_reply.started": "2023-09-23T21:29:27.051861Z"
    }
   },
   "outputs": [],
   "source": [
    "from sklearn.model_selection import train_test_split\n",
    "x_train, x_val, y_train, y_val = train_test_split(x, y, test_size=0.2, random_state=42)"
   ]
  },
  {
   "cell_type": "code",
   "execution_count": 34,
   "metadata": {
    "execution": {
     "iopub.execute_input": "2023-09-23T21:29:27.072517Z",
     "iopub.status.busy": "2023-09-23T21:29:27.072197Z",
     "iopub.status.idle": "2023-09-23T21:29:27.083975Z",
     "shell.execute_reply": "2023-09-23T21:29:27.082493Z",
     "shell.execute_reply.started": "2023-09-23T21:29:27.072488Z"
    }
   },
   "outputs": [],
   "source": [
    "from sklearn.decomposition import PCA"
   ]
  },
  {
   "cell_type": "code",
   "execution_count": 35,
   "metadata": {
    "execution": {
     "iopub.execute_input": "2023-09-23T21:29:27.085349Z",
     "iopub.status.busy": "2023-09-23T21:29:27.085031Z",
     "iopub.status.idle": "2023-09-23T21:29:27.104381Z",
     "shell.execute_reply": "2023-09-23T21:29:27.102988Z",
     "shell.execute_reply.started": "2023-09-23T21:29:27.085322Z"
    }
   },
   "outputs": [
    {
     "data": {
      "text/plain": [
       "0"
      ]
     },
     "execution_count": 35,
     "metadata": {},
     "output_type": "execute_result"
    }
   ],
   "source": [
    "x_train.isnull().sum().sum()"
   ]
  },
  {
   "cell_type": "code",
   "execution_count": 36,
   "metadata": {
    "execution": {
     "iopub.execute_input": "2023-09-23T21:29:27.107209Z",
     "iopub.status.busy": "2023-09-23T21:29:27.106258Z",
     "iopub.status.idle": "2023-09-23T21:29:27.119082Z",
     "shell.execute_reply": "2023-09-23T21:29:27.117656Z",
     "shell.execute_reply.started": "2023-09-23T21:29:27.107169Z"
    }
   },
   "outputs": [
    {
     "data": {
      "text/plain": [
       "0"
      ]
     },
     "execution_count": 36,
     "metadata": {},
     "output_type": "execute_result"
    }
   ],
   "source": [
    "x_val.isnull().sum().sum()"
   ]
  },
  {
   "cell_type": "code",
   "execution_count": 37,
   "metadata": {
    "execution": {
     "iopub.execute_input": "2023-09-23T21:29:27.128761Z",
     "iopub.status.busy": "2023-09-23T21:29:27.128420Z",
     "iopub.status.idle": "2023-09-23T21:29:27.141520Z",
     "shell.execute_reply": "2023-09-23T21:29:27.140026Z",
     "shell.execute_reply.started": "2023-09-23T21:29:27.128732Z"
    }
   },
   "outputs": [],
   "source": [
    "# Apply PCA to reduce the dimensionality of the feature space\n",
    "#n_components =75  # You can choose the number of components based on your preference or analysis\n",
    "#pca = PCA(n_components=n_components)\n",
    "#x_train_pca = pca.fit_transform(x_train)\n",
    "#x_val_pca = pca.fit_transform(x_val)"
   ]
  },
  {
   "cell_type": "code",
   "execution_count": 1,
   "metadata": {
    "execution": {
     "iopub.execute_input": "2023-09-23T21:29:27.144352Z",
     "iopub.status.busy": "2023-09-23T21:29:27.143079Z",
     "iopub.status.idle": "2023-09-23T21:29:28.008472Z",
     "shell.execute_reply": "2023-09-23T21:29:28.007080Z",
     "shell.execute_reply.started": "2023-09-23T21:29:27.144302Z"
    }
   },
   "outputs": [
    {
     "ename": "ModuleNotFoundError",
     "evalue": "No module named 'xgboost'",
     "output_type": "error",
     "traceback": [
      "\u001b[1;31m---------------------------------------------------------------------------\u001b[0m",
      "\u001b[1;31mModuleNotFoundError\u001b[0m                       Traceback (most recent call last)",
      "\u001b[1;32m~\\AppData\\Local\\Temp\\ipykernel_728\\947727148.py\u001b[0m in \u001b[0;36m<module>\u001b[1;34m\u001b[0m\n\u001b[1;32m----> 1\u001b[1;33m \u001b[1;32mimport\u001b[0m \u001b[0mxgboost\u001b[0m \u001b[1;32mas\u001b[0m \u001b[0mxgb\u001b[0m\u001b[1;33m\u001b[0m\u001b[1;33m\u001b[0m\u001b[0m\n\u001b[0m\u001b[0;32m      2\u001b[0m \u001b[1;32mfrom\u001b[0m \u001b[0msklearn\u001b[0m\u001b[1;33m.\u001b[0m\u001b[0mmetrics\u001b[0m \u001b[1;32mimport\u001b[0m \u001b[0mmean_squared_error\u001b[0m\u001b[1;33m\u001b[0m\u001b[1;33m\u001b[0m\u001b[0m\n\u001b[0;32m      3\u001b[0m \u001b[0mmodel\u001b[0m \u001b[1;33m=\u001b[0m \u001b[0mxgb\u001b[0m\u001b[1;33m.\u001b[0m\u001b[0mXGBRegressor\u001b[0m\u001b[1;33m(\u001b[0m\u001b[0mobjective\u001b[0m\u001b[1;33m=\u001b[0m\u001b[1;34m'reg:squarederror'\u001b[0m\u001b[1;33m)\u001b[0m\u001b[1;33m\u001b[0m\u001b[1;33m\u001b[0m\u001b[0m\n\u001b[0;32m      4\u001b[0m \u001b[0mmodel\u001b[0m\u001b[1;33m.\u001b[0m\u001b[0mfit\u001b[0m\u001b[1;33m(\u001b[0m\u001b[0mx_train\u001b[0m\u001b[1;33m,\u001b[0m \u001b[0my_train\u001b[0m\u001b[1;33m)\u001b[0m\u001b[1;33m\u001b[0m\u001b[1;33m\u001b[0m\u001b[0m\n",
      "\u001b[1;31mModuleNotFoundError\u001b[0m: No module named 'xgboost'"
     ]
    }
   ],
   "source": [
    "\n",
    "import xgboost as xgb\n",
    "from sklearn.metrics import mean_squared_error\n",
    "model = xgb.XGBRegressor(objective='reg:squarederror')\n",
    "model.fit(x_train, y_train)"
   ]
  },
  {
   "cell_type": "code",
   "execution_count": null,
   "metadata": {
    "execution": {
     "iopub.execute_input": "2023-09-23T21:29:28.013467Z",
     "iopub.status.busy": "2023-09-23T21:29:28.013068Z",
     "iopub.status.idle": "2023-09-23T21:29:28.040669Z",
     "shell.execute_reply": "2023-09-23T21:29:28.039681Z",
     "shell.execute_reply.started": "2023-09-23T21:29:28.013436Z"
    }
   },
   "outputs": [],
   "source": [
    "y_pred = model.predict(x_val)"
   ]
  },
  {
   "cell_type": "code",
   "execution_count": null,
   "metadata": {
    "execution": {
     "iopub.execute_input": "2023-09-23T21:29:28.046573Z",
     "iopub.status.busy": "2023-09-23T21:29:28.041991Z",
     "iopub.status.idle": "2023-09-23T21:29:28.054265Z",
     "shell.execute_reply": "2023-09-23T21:29:28.053296Z",
     "shell.execute_reply.started": "2023-09-23T21:29:28.046514Z"
    }
   },
   "outputs": [],
   "source": [
    "mse = mean_squared_error(y_val, y_pred)\n",
    "rmse = np.sqrt(mse)\n",
    "print(f\"Root Mean Squared Error: {rmse:.2f}\")"
   ]
  },
  {
   "cell_type": "code",
   "execution_count": null,
   "metadata": {
    "execution": {
     "iopub.execute_input": "2023-09-23T21:29:28.056578Z",
     "iopub.status.busy": "2023-09-23T21:29:28.055685Z",
     "iopub.status.idle": "2023-09-23T21:29:28.136455Z",
     "shell.execute_reply": "2023-09-23T21:29:28.135172Z",
     "shell.execute_reply.started": "2023-09-23T21:29:28.056538Z"
    }
   },
   "outputs": [],
   "source": [
    "y_pred_test=model.predict(df_test_encoded)"
   ]
  },
  {
   "cell_type": "code",
   "execution_count": null,
   "metadata": {
    "execution": {
     "iopub.execute_input": "2023-09-23T21:29:28.139043Z",
     "iopub.status.busy": "2023-09-23T21:29:28.138298Z",
     "iopub.status.idle": "2023-09-23T21:29:28.147112Z",
     "shell.execute_reply": "2023-09-23T21:29:28.145867Z",
     "shell.execute_reply.started": "2023-09-23T21:29:28.139004Z"
    }
   },
   "outputs": [],
   "source": [
    "y_pred_test"
   ]
  },
  {
   "cell_type": "code",
   "execution_count": null,
   "metadata": {
    "execution": {
     "iopub.execute_input": "2023-09-23T21:29:28.149214Z",
     "iopub.status.busy": "2023-09-23T21:29:28.148843Z",
     "iopub.status.idle": "2023-09-23T21:29:28.160425Z",
     "shell.execute_reply": "2023-09-23T21:29:28.159050Z",
     "shell.execute_reply.started": "2023-09-23T21:29:28.149182Z"
    }
   },
   "outputs": [],
   "source": [
    "submission = df_test[[\"Id\"]]"
   ]
  },
  {
   "cell_type": "code",
   "execution_count": null,
   "metadata": {
    "execution": {
     "iopub.execute_input": "2023-09-23T21:29:28.162187Z",
     "iopub.status.busy": "2023-09-23T21:29:28.161806Z",
     "iopub.status.idle": "2023-09-23T21:29:28.174671Z",
     "shell.execute_reply": "2023-09-23T21:29:28.173442Z",
     "shell.execute_reply.started": "2023-09-23T21:29:28.162155Z"
    }
   },
   "outputs": [],
   "source": [
    "submission[\"SalePrice\"] = y_pred_test"
   ]
  },
  {
   "cell_type": "code",
   "execution_count": null,
   "metadata": {
    "execution": {
     "iopub.execute_input": "2023-09-23T21:29:28.177147Z",
     "iopub.status.busy": "2023-09-23T21:29:28.176193Z",
     "iopub.status.idle": "2023-09-23T21:29:28.195090Z",
     "shell.execute_reply": "2023-09-23T21:29:28.194279Z",
     "shell.execute_reply.started": "2023-09-23T21:29:28.177107Z"
    }
   },
   "outputs": [],
   "source": [
    "submission"
   ]
  },
  {
   "cell_type": "code",
   "execution_count": null,
   "metadata": {
    "execution": {
     "iopub.execute_input": "2023-09-23T21:29:28.196926Z",
     "iopub.status.busy": "2023-09-23T21:29:28.196341Z",
     "iopub.status.idle": "2023-09-23T21:29:28.219910Z",
     "shell.execute_reply": "2023-09-23T21:29:28.218665Z",
     "shell.execute_reply.started": "2023-09-23T21:29:28.196895Z"
    }
   },
   "outputs": [],
   "source": [
    "submission.to_csv(\"submission.csv\",index=None)"
   ]
  },
  {
   "cell_type": "code",
   "execution_count": null,
   "metadata": {
    "execution": {
     "iopub.execute_input": "2023-09-23T21:29:28.221710Z",
     "iopub.status.busy": "2023-09-23T21:29:28.221184Z",
     "iopub.status.idle": "2023-09-23T21:29:28.237754Z",
     "shell.execute_reply": "2023-09-23T21:29:28.236316Z",
     "shell.execute_reply.started": "2023-09-23T21:29:28.221680Z"
    }
   },
   "outputs": [],
   "source": [
    "pd.read_csv(\"submission.csv\")"
   ]
  }
 ],
 "metadata": {
  "kernelspec": {
   "display_name": "Python 3 (ipykernel)",
   "language": "python",
   "name": "python3"
  },
  "language_info": {
   "codemirror_mode": {
    "name": "ipython",
    "version": 3
   },
   "file_extension": ".py",
   "mimetype": "text/x-python",
   "name": "python",
   "nbconvert_exporter": "python",
   "pygments_lexer": "ipython3",
   "version": "3.9.13"
  }
 },
 "nbformat": 4,
 "nbformat_minor": 4
}
